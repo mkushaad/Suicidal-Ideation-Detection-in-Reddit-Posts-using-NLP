{
 "cells": [
  {
   "cell_type": "markdown",
   "id": "f4b0b2e2-7412-44cf-b6c6-99f91ee6f466",
   "metadata": {},
   "source": [
    "# **Detecting Suicidal Ideation on Reddit Post**"
   ]
  },
  {
   "cell_type": "markdown",
   "id": "23e48ca4-b4be-4fda-91e1-1ec0702a5584",
   "metadata": {},
   "source": [
    "#### Importing Libraries"
   ]
  },
  {
   "cell_type": "code",
   "execution_count": 1,
   "id": "70e8ba3f-24bb-4287-b7b9-230d0bff7408",
   "metadata": {},
   "outputs": [],
   "source": [
    "import pandas as pd #saving .csv files\n",
    "import re #used to remove non-alpha char\n",
    "import spacy #used in tokenisation and lemmatisation\n",
    "from sklearn.model_selection import train_test_split #to split the dataset\n",
    "from sklearn.feature_extraction.text import TfidfVectorizer #for vectorisation\n",
    "from sklearn.linear_model import LogisticRegression #for importing the method model\n",
    "from sklearn.metrics import accuracy_score, classification_report, confusion_matrix # for evaluation and classification\n",
    "from scipy.sparse import save_npz, load_npz #for .npz files\n",
    "import pickle #saving and loading files\n",
    "import matplotlib.pyplot as plt #to plot and display\n",
    "import seaborn as sns #for confusion matrix"
   ]
  },
  {
   "cell_type": "code",
   "execution_count": 2,
   "id": "8a2b016a-f0b6-4426-accc-b51f7b2f88f3",
   "metadata": {},
   "outputs": [],
   "source": [
    "MODEL_FILE = 'logistic_regression_model.pkl' # File name for the saved model and vectorizer\n",
    "VECTORIZER_FILE = 'tfidf_vectorizer.pkl'\n",
    "\n",
    "df = pd.read_csv('Suicide_Detection.csv') # Loading the dataset\n",
    "\n",
    "# Remove rows with missing values in 'text'\n",
    "df = df.dropna(subset=['text'])"
   ]
  },
  {
   "cell_type": "markdown",
   "id": "3e22eef3-1366-44e9-9128-b8b3009860b5",
   "metadata": {},
   "source": [
    "##### Preview of the Dataset"
   ]
  },
  {
   "cell_type": "code",
   "execution_count": 3,
   "id": "1f1aac00-b9ce-4532-9ceb-8fdc1efbbc9d",
   "metadata": {},
   "outputs": [
    {
     "data": {
      "text/html": [
       "<div>\n",
       "<style scoped>\n",
       "    .dataframe tbody tr th:only-of-type {\n",
       "        vertical-align: middle;\n",
       "    }\n",
       "\n",
       "    .dataframe tbody tr th {\n",
       "        vertical-align: top;\n",
       "    }\n",
       "\n",
       "    .dataframe thead th {\n",
       "        text-align: right;\n",
       "    }\n",
       "</style>\n",
       "<table border=\"1\" class=\"dataframe\">\n",
       "  <thead>\n",
       "    <tr style=\"text-align: right;\">\n",
       "      <th></th>\n",
       "      <th>Unnamed: 0</th>\n",
       "      <th>text</th>\n",
       "      <th>class</th>\n",
       "    </tr>\n",
       "  </thead>\n",
       "  <tbody>\n",
       "    <tr>\n",
       "      <th>0</th>\n",
       "      <td>2</td>\n",
       "      <td>Ex Wife Threatening SuicideRecently I left my ...</td>\n",
       "      <td>suicide</td>\n",
       "    </tr>\n",
       "    <tr>\n",
       "      <th>1</th>\n",
       "      <td>3</td>\n",
       "      <td>Am I weird I don't get affected by compliments...</td>\n",
       "      <td>non-suicide</td>\n",
       "    </tr>\n",
       "    <tr>\n",
       "      <th>2</th>\n",
       "      <td>4</td>\n",
       "      <td>Finally 2020 is almost over... So I can never ...</td>\n",
       "      <td>non-suicide</td>\n",
       "    </tr>\n",
       "    <tr>\n",
       "      <th>3</th>\n",
       "      <td>8</td>\n",
       "      <td>i need helpjust help me im crying so hard</td>\n",
       "      <td>suicide</td>\n",
       "    </tr>\n",
       "    <tr>\n",
       "      <th>4</th>\n",
       "      <td>9</td>\n",
       "      <td>I’m so lostHello, my name is Adam (16) and I’v...</td>\n",
       "      <td>suicide</td>\n",
       "    </tr>\n",
       "  </tbody>\n",
       "</table>\n",
       "</div>"
      ],
      "text/plain": [
       "   Unnamed: 0                                               text        class\n",
       "0           2  Ex Wife Threatening SuicideRecently I left my ...      suicide\n",
       "1           3  Am I weird I don't get affected by compliments...  non-suicide\n",
       "2           4  Finally 2020 is almost over... So I can never ...  non-suicide\n",
       "3           8          i need helpjust help me im crying so hard      suicide\n",
       "4           9  I’m so lostHello, my name is Adam (16) and I’v...      suicide"
      ]
     },
     "execution_count": 3,
     "metadata": {},
     "output_type": "execute_result"
    }
   ],
   "source": [
    "df.head()"
   ]
  },
  {
   "cell_type": "markdown",
   "id": "f3a5d5a2-0f82-4d3c-8754-b9d3e731f942",
   "metadata": {},
   "source": [
    "#### Preprocessing the Dataset and Vectorization"
   ]
  },
  {
   "cell_type": "code",
   "execution_count": 4,
   "id": "9a3f69e2-c3a7-457b-9c45-77b00ffde6a1",
   "metadata": {},
   "outputs": [
    {
     "name": "stdout",
     "output_type": "stream",
     "text": [
      "Preprocessed data, labels, and TF-IDF vectors saved.\n"
     ]
    }
   ],
   "source": [
    "# Cleaning the data ( Preprocessing ) \n",
    "def clean_text(text):\n",
    "    text = text.lower()\n",
    "    text = re.sub(r'http\\S+', '', text)  # Remove URLs\n",
    "    text = re.sub(r'@\\w+', '', text)  # Remove mentions\n",
    "    text = re.sub(r'[^a-zA-Z\\s]', '', text)  # Remove special characters\n",
    "    return text\n",
    "\n",
    "df['cleaned_text'] = df['text'].apply(clean_text)\n",
    "\n",
    "# Tokenization and lemmatization using spaCy\n",
    "nlp = spacy.load(\"en_core_web_sm\")\n",
    "\n",
    "def lemmatize_text(text):\n",
    "    doc = nlp(text)\n",
    "    return \" \".join([token.lemma_ for token in doc if not token.is_stop and not token.is_punct])\n",
    "\n",
    "df['lemmatized_text'] = df['cleaned_text'].apply(lemmatize_text)\n",
    "\n",
    "# Train-Test Split\n",
    "X = df['lemmatized_text']\n",
    "y = df['class']  # Replace 'class' with the actual column name for your labels\n",
    "\n",
    "X_train, X_test, y_train, y_test = train_test_split(X, y, test_size=0.2, random_state=42)\n",
    "\n",
    "# TF-IDF Vectorization\n",
    "vectorizer = TfidfVectorizer(max_features=5000)\n",
    "X_train_tfidf = vectorizer.fit_transform(X_train)\n",
    "X_test_tfidf = vectorizer.transform(X_test)\n",
    "\n",
    "# Save preprocessed data, TF-IDF matrices, and vectorizer\n",
    "df.to_csv('processed_dataset.csv', index=False)\n",
    "save_npz('X_train_tfidf.npz', X_train_tfidf)\n",
    "save_npz('X_test_tfidf.npz', X_test_tfidf)\n",
    "pd.DataFrame(y_train).to_csv('y_train.csv', index=False)\n",
    "pd.DataFrame(y_test).to_csv('y_test.csv', index=False)\n",
    "\n",
    "with open('vectorizer.pkl', 'wb') as f:\n",
    "    pickle.dump(vectorizer, f)\n",
    "\n",
    "print(\"Preprocessed data, labels, and TF-IDF vectors saved.\")\n"
   ]
  },
  {
   "cell_type": "markdown",
   "id": "e708d803-39e8-43e4-86de-02260b542a62",
   "metadata": {},
   "source": [
    "##### Preview of the Preprocessed Data"
   ]
  },
  {
   "cell_type": "code",
   "execution_count": 4,
   "id": "e6ab1e7c-69e2-4bf2-945d-571b1cfd3a7c",
   "metadata": {},
   "outputs": [
    {
     "data": {
      "text/html": [
       "<div>\n",
       "<style scoped>\n",
       "    .dataframe tbody tr th:only-of-type {\n",
       "        vertical-align: middle;\n",
       "    }\n",
       "\n",
       "    .dataframe tbody tr th {\n",
       "        vertical-align: top;\n",
       "    }\n",
       "\n",
       "    .dataframe thead th {\n",
       "        text-align: right;\n",
       "    }\n",
       "</style>\n",
       "<table border=\"1\" class=\"dataframe\">\n",
       "  <thead>\n",
       "    <tr style=\"text-align: right;\">\n",
       "      <th></th>\n",
       "      <th>Unnamed: 0</th>\n",
       "      <th>text</th>\n",
       "      <th>class</th>\n",
       "      <th>cleaned_text</th>\n",
       "      <th>lemmatized_text</th>\n",
       "    </tr>\n",
       "  </thead>\n",
       "  <tbody>\n",
       "    <tr>\n",
       "      <th>0</th>\n",
       "      <td>2</td>\n",
       "      <td>Ex Wife Threatening SuicideRecently I left my ...</td>\n",
       "      <td>suicide</td>\n",
       "      <td>ex wife threatening suiciderecently i left my ...</td>\n",
       "      <td>ex wife threaten suiciderecently leave wife go...</td>\n",
       "    </tr>\n",
       "    <tr>\n",
       "      <th>1</th>\n",
       "      <td>3</td>\n",
       "      <td>Am I weird I don't get affected by compliments...</td>\n",
       "      <td>non-suicide</td>\n",
       "      <td>am i weird i dont get affected by compliments ...</td>\n",
       "      <td>weird not affect compliment come know irl feel...</td>\n",
       "    </tr>\n",
       "    <tr>\n",
       "      <th>2</th>\n",
       "      <td>4</td>\n",
       "      <td>Finally 2020 is almost over... So I can never ...</td>\n",
       "      <td>non-suicide</td>\n",
       "      <td>finally  is almost over so i can never hear  h...</td>\n",
       "      <td>finally   hear   bad year swear fuck god annoying</td>\n",
       "    </tr>\n",
       "    <tr>\n",
       "      <th>3</th>\n",
       "      <td>8</td>\n",
       "      <td>i need helpjust help me im crying so hard</td>\n",
       "      <td>suicide</td>\n",
       "      <td>i need helpjust help me im crying so hard</td>\n",
       "      <td>need helpjust help m cry hard</td>\n",
       "    </tr>\n",
       "    <tr>\n",
       "      <th>4</th>\n",
       "      <td>9</td>\n",
       "      <td>I’m so lostHello, my name is Adam (16) and I’v...</td>\n",
       "      <td>suicide</td>\n",
       "      <td>im so losthello my name is adam  and ive been ...</td>\n",
       "      <td>m losthello adam   ve struggle year m afraid p...</td>\n",
       "    </tr>\n",
       "  </tbody>\n",
       "</table>\n",
       "</div>"
      ],
      "text/plain": [
       "   Unnamed: 0                                               text        class  \\\n",
       "0           2  Ex Wife Threatening SuicideRecently I left my ...      suicide   \n",
       "1           3  Am I weird I don't get affected by compliments...  non-suicide   \n",
       "2           4  Finally 2020 is almost over... So I can never ...  non-suicide   \n",
       "3           8          i need helpjust help me im crying so hard      suicide   \n",
       "4           9  I’m so lostHello, my name is Adam (16) and I’v...      suicide   \n",
       "\n",
       "                                        cleaned_text  \\\n",
       "0  ex wife threatening suiciderecently i left my ...   \n",
       "1  am i weird i dont get affected by compliments ...   \n",
       "2  finally  is almost over so i can never hear  h...   \n",
       "3          i need helpjust help me im crying so hard   \n",
       "4  im so losthello my name is adam  and ive been ...   \n",
       "\n",
       "                                     lemmatized_text  \n",
       "0  ex wife threaten suiciderecently leave wife go...  \n",
       "1  weird not affect compliment come know irl feel...  \n",
       "2  finally   hear   bad year swear fuck god annoying  \n",
       "3                      need helpjust help m cry hard  \n",
       "4  m losthello adam   ve struggle year m afraid p...  "
      ]
     },
     "execution_count": 4,
     "metadata": {},
     "output_type": "execute_result"
    }
   ],
   "source": [
    "df = pd.read_csv('processed_dataset.csv')\n",
    "df.head()"
   ]
  },
  {
   "cell_type": "markdown",
   "id": "3573d9d6-0d4a-4f3e-a227-9c3986763ecc",
   "metadata": {},
   "source": [
    "#### **Training the Logistic Regression Model**"
   ]
  },
  {
   "cell_type": "code",
   "execution_count": 6,
   "id": "48cec2c3-7133-4524-b92d-226ad446407b",
   "metadata": {},
   "outputs": [
    {
     "name": "stdout",
     "output_type": "stream",
     "text": [
      "Model trained and saved.\n"
     ]
    }
   ],
   "source": [
    "#Loadign the preprocessed TF-IDF matrices\n",
    "X_train_tfidf = load_npz('X_train_tfidf.npz')\n",
    "X_test_tfidf = load_npz('X_test_tfidf.npz')\n",
    "\n",
    "# Training the Logistic Regression model\n",
    "model = LogisticRegression(max_iter=1000, random_state=42)\n",
    "model.fit(X_train_tfidf, y_train)\n",
    "\n",
    "# Saving the trained model for future use\n",
    "with open('logistic_model.pkl', 'wb') as f:\n",
    "    pickle.dump(model, f)\n",
    "\n",
    "print(\"Model trained and saved.\")"
   ]
  },
  {
   "cell_type": "markdown",
   "id": "0d5ee7b3-c21c-4c3c-8f37-f36106091c11",
   "metadata": {},
   "source": [
    "#### Loading the Trained Model and Vectorizer"
   ]
  },
  {
   "cell_type": "code",
   "execution_count": 5,
   "id": "85c6ff90-f60c-49de-8d47-d7b298a3793d",
   "metadata": {},
   "outputs": [
    {
     "name": "stdout",
     "output_type": "stream",
     "text": [
      "Preprocessed data, labels, and model loaded successfully.\n"
     ]
    }
   ],
   "source": [
    "try:\n",
    "    df = pd.read_csv('processed_dataset.csv') # Loading preprocessed dataset\n",
    "\n",
    "    # Loadign TF-IDF vectors\n",
    "    X_train_tfidf = load_npz('X_train_tfidf.npz')\n",
    "    X_test_tfidf = load_npz('X_test_tfidf.npz')\n",
    "\n",
    "    # loading train adn test data\n",
    "    y_train = pd.read_csv('y_train.csv').values.ravel()\n",
    "    y_test = pd.read_csv('y_test.csv').values.ravel()\n",
    "    \n",
    "    with open('vectorizer.pkl', 'rb') as f:\n",
    "        vectorizer = pickle.load(f)\n",
    "    with open('logistic_model.pkl', 'rb') as f:\n",
    "        model = pickle.load(f)\n",
    "\n",
    "    print(\"Preprocessed data, labels, and model loaded successfully.\")\n",
    "except FileNotFoundError as e:\n",
    "    print(f\"Error: {e}. Please run the preprocessing and training blocks first.\")"
   ]
  },
  {
   "cell_type": "markdown",
   "id": "4728cbc0-18b0-46fc-94c3-c58d530beeec",
   "metadata": {},
   "source": [
    "### **Testing the Model**"
   ]
  },
  {
   "cell_type": "code",
   "execution_count": 6,
   "id": "3a8738f6-fb63-49a7-a488-4c5caf45fe9e",
   "metadata": {},
   "outputs": [],
   "source": [
    "# Make predictions\n",
    "y_pred = model.predict(X_test_tfidf)"
   ]
  },
  {
   "cell_type": "markdown",
   "id": "a03cae62-c531-4469-9f38-c1274a275c53",
   "metadata": {},
   "source": [
    "#### Evaluating Model Accuracy and Plotting Graphs"
   ]
  },
  {
   "cell_type": "code",
   "execution_count": 7,
   "id": "db9af718-f95d-4a1e-b6ef-92dd6396dfb7",
   "metadata": {},
   "outputs": [
    {
     "name": "stdout",
     "output_type": "stream",
     "text": [
      "Accuracy: 0.9301\n",
      "Classification Report:\n",
      "              precision    recall  f1-score   support\n",
      "\n",
      " non-suicide       0.92      0.94      0.93     23287\n",
      "     suicide       0.94      0.92      0.93     23128\n",
      "\n",
      "    accuracy                           0.93     46415\n",
      "   macro avg       0.93      0.93      0.93     46415\n",
      "weighted avg       0.93      0.93      0.93     46415\n",
      "\n",
      "Confusion Matrix:\n",
      "[[21863  1424]\n",
      " [ 1819 21309]]\n"
     ]
    },
    {
     "data": {
      "image/png": "[encoded data removed]",
      "text/plain": [
       "<Figure size 800x600 with 2 Axes>"
      ]
     },
     "metadata": {},
     "output_type": "display_data"
    }
   ],
   "source": [
    "accuracy = accuracy_score(y_test, y_pred)\n",
    "print(f\"Accuracy: {accuracy:.4f}\")\n",
    "\n",
    "print(\"Classification Report:\")\n",
    "print(classification_report(y_test, y_pred))\n",
    "\n",
    "print(\"Confusion Matrix:\")\n",
    "conf_matrix = confusion_matrix(y_test, y_pred)\n",
    "print(conf_matrix)\n",
    "\n",
    "# Visualize Confusion Matrix\n",
    "plt.figure(figsize=(8, 6))\n",
    "sns.heatmap(conf_matrix, annot=True, fmt='d', cmap='Blues', \n",
    "            xticklabels=['Non-Suicidal', 'Suicidal'], \n",
    "            yticklabels=['Non-Suicidal', 'Suicidal'])\n",
    "plt.xlabel('Predicted')\n",
    "plt.ylabel('Actual')\n",
    "plt.title('Confusion Matrix')\n",
    "plt.show()"
   ]
  },
  {
   "cell_type": "markdown",
   "id": "2c5eb4fd-2bd3-4258-9228-8e4d623ccb6b",
   "metadata": {},
   "source": [
    "#### Predicting the User Input"
   ]
  },
  {
   "cell_type": "code",
   "execution_count": 11,
   "id": "d93e851c-565a-4583-90b3-b6b7b413effc",
   "metadata": {},
   "outputs": [
    {
     "name": "stdin",
     "output_type": "stream",
     "text": [
      "Please enter a sentence:  i had the best day of my life :D\n"
     ]
    },
    {
     "name": "stdout",
     "output_type": "stream",
     "text": [
      "Prediction: Non-Suicidal\n",
      "Probabilities: Non-Suicidal: 0.5172, Suicidal: 0.4828\n"
     ]
    }
   ],
   "source": [
    "## Function to predict the class (Suicidal or Non-Suicidal) of a user input\n",
    "def clean_text(text):\n",
    "    text = text.lower()\n",
    "    text = re.sub(r'http\\S+', '', text)  # remove URLs\n",
    "    text = re.sub(r'@\\w+', '', text)  # remove mentions\n",
    "    text = re.sub(r'[^a-zA-Z\\s]', '', text)  # remove special characters\n",
    "    return text\n",
    "\n",
    "nlp = spacy.load(\"en_core_web_sm\")\n",
    "\n",
    "def lemmatize_text(text):\n",
    "    doc = nlp(text)\n",
    "    return \" \".join([token.lemma_ for token in doc if not token.is_stop and not token.is_punct])\n",
    "\n",
    "def predict_input(input_text):\n",
    "    cleaned_text = clean_text(input_text)\n",
    "    \n",
    "    lemmatized_text = lemmatize_text(cleaned_text)\n",
    "    \n",
    "    input_tfidf = vectorizer.transform([lemmatized_text])\n",
    "    \n",
    "    prediction = model.predict(input_tfidf)\n",
    "    \n",
    "    prob = model.predict_proba(input_tfidf)[0]\n",
    "    \n",
    "    if prob[1] > 0.5: \n",
    "        result = \"Suicidal\"\n",
    "    else:\n",
    "        result = \"Non-Suicidal\"\n",
    "    \n",
    "    #result\n",
    "    print(f\"Prediction: {result}\")\n",
    "    print(f\"Probabilities: Non-Suicidal: {prob[0]:.4f}, Suicidal: {prob[1]:.4f}\")\n",
    "    \n",
    "input_text = input(\"Please enter a sentence: \")\n",
    "predict_input(input_text)"
   ]
  },
  {
   "cell_type": "markdown",
   "id": "e12b2261-3ba2-4181-85e3-11b337cf48b2",
   "metadata": {},
   "source": [
    "# --End of Code--"
   ]
  }
 ],
 "metadata": {
  "kernelspec": {
   "display_name": "Python 3 (ipykernel)",
   "language": "python",
   "name": "python3"
  },
  "language_info": {
   "codemirror_mode": {
    "name": "ipython",
    "version": 3
   },
   "file_extension": ".py",
   "mimetype": "text/x-python",
   "name": "python",
   "nbconvert_exporter": "python",
   "pygments_lexer": "ipython3",
   "version": "3.9.0"
  }
 },
 "nbformat": 4,
 "nbformat_minor": 5
}
